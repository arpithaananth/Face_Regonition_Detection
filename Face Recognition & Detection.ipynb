{
 "cells": [
  {
   "cell_type": "code",
   "execution_count": 73,
   "metadata": {},
   "outputs": [],
   "source": [
    "import face_recognition\n",
    "import cv2\n",
    "import numpy as np\n",
    "import matplotlib.pyplot as plt"
   ]
  },
  {
   "cell_type": "code",
   "execution_count": 74,
   "metadata": {},
   "outputs": [],
   "source": [
    "#Loading Images\n",
    "modiji_image = face_recognition.load_image_file(\"Modiji.jpg\")\n",
    "modiji_face_encoding = face_recognition.face_encodings(modiji_image)[0]\n",
    "SirMV_image = face_recognition.load_image_file(\"Sir MV.jpg\")\n",
    "SirMV_face_encoding = face_recognition.face_encodings(SirMV_image)[0]\n",
    "APJ_image = face_recognition.load_image_file(\"APJ Abdul Kalam.jpg\")\n",
    "APJ_face_encoding = face_recognition.face_encodings(APJ_image)[0]\n",
    "SM_image = face_recognition.load_image_file(\"Sudha Murthy.jpg\")\n",
    "SM_face_encoding = face_recognition.face_encodings(SM_image)[0]\n",
    "MA_image = face_recognition.load_image_file(\"Mukesh Ambani.jpg\")\n",
    "MA_face_encoding = face_recognition.face_encodings(MA_image)[0]\n",
    "AP_image = face_recognition.load_image_file(\"Azim Premji.jpg\")\n",
    "AP_face_encoding = face_recognition.face_encodings(AP_image)[0]\n",
    "RT_image = face_recognition.load_image_file(\"Ratan Tata.jpg\")\n",
    "RT_face_encoding = face_recognition.face_encodings(RT_image)[0]\n",
    "known_face_encodings = [modiji_face_encoding, APJ_face_encoding, SirMV_face_encoding,SM_face_encoding,AP_face_encoding,MA_face_encoding,RT_face_encoding]\n",
    "known_face_names = [\"Narendra Modi\",\"APJ Abdul Kalam\", \"Sir M Visvesvaraya\",'Sudha Murthy','Azim Premji','Mukesh Ambani','Ratan Tata']"
   ]
  },
  {
   "cell_type": "code",
   "execution_count": 75,
   "metadata": {},
   "outputs": [],
   "source": [
    "video_capture = cv2.VideoCapture(0)\n",
    "face_locations = []\n",
    "face_encodings = []\n",
    "face_names = []\n",
    "process_this_frame = True\n",
    "fourcc = cv2.VideoWriter_fourcc(*'DIVX') \n",
    "out = cv2.VideoWriter('output.mp4', fourcc, 10.0, (640, 480)) \n",
    "\n",
    "while True:\n",
    "    ret, frame = video_capture.read()\n",
    "    small_frame = cv2.resize(frame, (0, 0), fx=0.25, fy=0.25) \n",
    "    rgb_small_frame = small_frame[:, :, ::-1]\n",
    "    if process_this_frame:\n",
    "        face_locations = face_recognition.face_locations(rgb_small_frame)\n",
    "        face_encodings = face_recognition.face_encodings(rgb_small_frame, face_locations)\n",
    "        face_names = []\n",
    "        for face_encoding in face_encodings:\n",
    "            matches = face_recognition.compare_faces(known_face_encodings, face_encoding)\n",
    "            name = \"Unknown\"\n",
    "            face_distances = face_recognition.face_distance(known_face_encodings, face_encoding)\n",
    "            best_match_index = np.argmin(face_distances)\n",
    "            if matches[best_match_index]:\n",
    "                name = known_face_names[best_match_index]\n",
    "            face_names.append(name)\n",
    "    process_this_frame = not process_this_frame\n",
    "    for (top, right, bottom, left), name in zip(face_locations, face_names):\n",
    "        top *= 4\n",
    "        right *= 4\n",
    "        bottom *= 4\n",
    "        left *= 4\n",
    "        cv2.rectangle(frame, (left, top), (right, bottom), (0, 0, 255), 2)\n",
    "        cv2.rectangle(frame, (left, bottom - 35), (right, bottom), (0, 0, 255), cv2.FILLED)\n",
    "        font = cv2.FONT_HERSHEY_DUPLEX\n",
    "        cv2.putText(frame, name, (left + 6, bottom - 6), font, 1.0, (255, 255, 255), 1)\n",
    "    out.write(frame)\n",
    "    cv2.imshow('Video',frame)\n",
    "    if cv2.waitKey(1) & 0xFF == ord('q'):\n",
    "        break\n",
    "video_capture.release()\n",
    "out.release() \n",
    "cv2.destroyAllWindows()"
   ]
  }
 ],
 "metadata": {
  "kernelspec": {
   "display_name": "Python 3",
   "language": "python",
   "name": "python3"
  },
  "language_info": {
   "codemirror_mode": {
    "name": "ipython",
    "version": 3
   },
   "file_extension": ".py",
   "mimetype": "text/x-python",
   "name": "python",
   "nbconvert_exporter": "python",
   "pygments_lexer": "ipython3",
   "version": "3.7.3"
  }
 },
 "nbformat": 4,
 "nbformat_minor": 2
}
